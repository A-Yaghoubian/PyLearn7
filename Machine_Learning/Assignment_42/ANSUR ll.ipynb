{
 "cells": [
  {
   "cell_type": "markdown",
   "metadata": {},
   "source": [
    "<img src='https://2205989719-files.gitbook.io/~/files/v0/b/gitbook-x-prod.appspot.com/o/spaces%2Fu9ESMkINnUK9Z0nC4FPH%2Fuploads%2Fj7lpeCaBOul6WoqFmmH2%2Fimage.png?alt=media&token=4b9d18a1-f46c-4081-9a0e-2d456fed027d'>"
   ]
  },
  {
   "cell_type": "code",
   "execution_count": 147,
   "metadata": {},
   "outputs": [],
   "source": [
    "import pandas as pd \n",
    "import numpy as np \n",
    "import matplotlib.pyplot as plt\n",
    "from matplotlib.colors import ListedColormap"
   ]
  },
  {
   "cell_type": "code",
   "execution_count": 148,
   "metadata": {},
   "outputs": [
    {
     "data": {
      "text/html": [
       "<div>\n",
       "<style scoped>\n",
       "    .dataframe tbody tr th:only-of-type {\n",
       "        vertical-align: middle;\n",
       "    }\n",
       "\n",
       "    .dataframe tbody tr th {\n",
       "        vertical-align: top;\n",
       "    }\n",
       "\n",
       "    .dataframe thead th {\n",
       "        text-align: right;\n",
       "    }\n",
       "</style>\n",
       "<table border=\"1\" class=\"dataframe\">\n",
       "  <thead>\n",
       "    <tr style=\"text-align: right;\">\n",
       "      <th></th>\n",
       "      <th>SubjectId</th>\n",
       "      <th>abdominalextensiondepthsitting</th>\n",
       "      <th>acromialheight</th>\n",
       "      <th>acromionradialelength</th>\n",
       "      <th>anklecircumference</th>\n",
       "      <th>axillaheight</th>\n",
       "      <th>balloffootcircumference</th>\n",
       "      <th>balloffootlength</th>\n",
       "      <th>biacromialbreadth</th>\n",
       "      <th>bicepscircumferenceflexed</th>\n",
       "      <th>...</th>\n",
       "      <th>Branch</th>\n",
       "      <th>PrimaryMOS</th>\n",
       "      <th>SubjectsBirthLocation</th>\n",
       "      <th>SubjectNumericRace</th>\n",
       "      <th>Ethnicity</th>\n",
       "      <th>DODRace</th>\n",
       "      <th>Age</th>\n",
       "      <th>Heightin</th>\n",
       "      <th>Weightlbs</th>\n",
       "      <th>WritingPreference</th>\n",
       "    </tr>\n",
       "  </thead>\n",
       "  <tbody>\n",
       "    <tr>\n",
       "      <th>0</th>\n",
       "      <td>10037</td>\n",
       "      <td>231</td>\n",
       "      <td>1282</td>\n",
       "      <td>301</td>\n",
       "      <td>204</td>\n",
       "      <td>1180</td>\n",
       "      <td>222</td>\n",
       "      <td>177</td>\n",
       "      <td>373</td>\n",
       "      <td>315</td>\n",
       "      <td>...</td>\n",
       "      <td>Combat Support</td>\n",
       "      <td>92Y</td>\n",
       "      <td>Germany</td>\n",
       "      <td>2</td>\n",
       "      <td>NaN</td>\n",
       "      <td>2</td>\n",
       "      <td>26</td>\n",
       "      <td>61</td>\n",
       "      <td>142</td>\n",
       "      <td>Right hand</td>\n",
       "    </tr>\n",
       "    <tr>\n",
       "      <th>1</th>\n",
       "      <td>10038</td>\n",
       "      <td>194</td>\n",
       "      <td>1379</td>\n",
       "      <td>320</td>\n",
       "      <td>207</td>\n",
       "      <td>1292</td>\n",
       "      <td>225</td>\n",
       "      <td>178</td>\n",
       "      <td>372</td>\n",
       "      <td>272</td>\n",
       "      <td>...</td>\n",
       "      <td>Combat Service Support</td>\n",
       "      <td>25U</td>\n",
       "      <td>California</td>\n",
       "      <td>3</td>\n",
       "      <td>Mexican</td>\n",
       "      <td>3</td>\n",
       "      <td>21</td>\n",
       "      <td>64</td>\n",
       "      <td>120</td>\n",
       "      <td>Right hand</td>\n",
       "    </tr>\n",
       "    <tr>\n",
       "      <th>2</th>\n",
       "      <td>10042</td>\n",
       "      <td>183</td>\n",
       "      <td>1369</td>\n",
       "      <td>329</td>\n",
       "      <td>233</td>\n",
       "      <td>1271</td>\n",
       "      <td>237</td>\n",
       "      <td>196</td>\n",
       "      <td>397</td>\n",
       "      <td>300</td>\n",
       "      <td>...</td>\n",
       "      <td>Combat Service Support</td>\n",
       "      <td>35D</td>\n",
       "      <td>Texas</td>\n",
       "      <td>1</td>\n",
       "      <td>NaN</td>\n",
       "      <td>1</td>\n",
       "      <td>23</td>\n",
       "      <td>68</td>\n",
       "      <td>147</td>\n",
       "      <td>Right hand</td>\n",
       "    </tr>\n",
       "    <tr>\n",
       "      <th>3</th>\n",
       "      <td>10043</td>\n",
       "      <td>261</td>\n",
       "      <td>1356</td>\n",
       "      <td>306</td>\n",
       "      <td>214</td>\n",
       "      <td>1250</td>\n",
       "      <td>240</td>\n",
       "      <td>188</td>\n",
       "      <td>384</td>\n",
       "      <td>364</td>\n",
       "      <td>...</td>\n",
       "      <td>Combat Service Support</td>\n",
       "      <td>25U</td>\n",
       "      <td>District of Columbia</td>\n",
       "      <td>8</td>\n",
       "      <td>Caribbean Islander</td>\n",
       "      <td>2</td>\n",
       "      <td>22</td>\n",
       "      <td>66</td>\n",
       "      <td>175</td>\n",
       "      <td>Right hand</td>\n",
       "    </tr>\n",
       "    <tr>\n",
       "      <th>4</th>\n",
       "      <td>10051</td>\n",
       "      <td>309</td>\n",
       "      <td>1303</td>\n",
       "      <td>308</td>\n",
       "      <td>214</td>\n",
       "      <td>1210</td>\n",
       "      <td>217</td>\n",
       "      <td>182</td>\n",
       "      <td>378</td>\n",
       "      <td>320</td>\n",
       "      <td>...</td>\n",
       "      <td>Combat Arms</td>\n",
       "      <td>42A</td>\n",
       "      <td>Texas</td>\n",
       "      <td>1</td>\n",
       "      <td>NaN</td>\n",
       "      <td>1</td>\n",
       "      <td>45</td>\n",
       "      <td>63</td>\n",
       "      <td>195</td>\n",
       "      <td>Right hand</td>\n",
       "    </tr>\n",
       "  </tbody>\n",
       "</table>\n",
       "<p>5 rows × 108 columns</p>\n",
       "</div>"
      ],
      "text/plain": [
       "   SubjectId  abdominalextensiondepthsitting  acromialheight  \\\n",
       "0      10037                             231            1282   \n",
       "1      10038                             194            1379   \n",
       "2      10042                             183            1369   \n",
       "3      10043                             261            1356   \n",
       "4      10051                             309            1303   \n",
       "\n",
       "   acromionradialelength  anklecircumference  axillaheight  \\\n",
       "0                    301                 204          1180   \n",
       "1                    320                 207          1292   \n",
       "2                    329                 233          1271   \n",
       "3                    306                 214          1250   \n",
       "4                    308                 214          1210   \n",
       "\n",
       "   balloffootcircumference  balloffootlength  biacromialbreadth  \\\n",
       "0                      222               177                373   \n",
       "1                      225               178                372   \n",
       "2                      237               196                397   \n",
       "3                      240               188                384   \n",
       "4                      217               182                378   \n",
       "\n",
       "   bicepscircumferenceflexed  ...                  Branch  PrimaryMOS  \\\n",
       "0                        315  ...          Combat Support         92Y   \n",
       "1                        272  ...  Combat Service Support         25U   \n",
       "2                        300  ...  Combat Service Support         35D   \n",
       "3                        364  ...  Combat Service Support         25U   \n",
       "4                        320  ...             Combat Arms         42A   \n",
       "\n",
       "   SubjectsBirthLocation  SubjectNumericRace           Ethnicity  DODRace  \\\n",
       "0                Germany                   2                 NaN        2   \n",
       "1             California                   3             Mexican        3   \n",
       "2                  Texas                   1                 NaN        1   \n",
       "3   District of Columbia                   8  Caribbean Islander        2   \n",
       "4                  Texas                   1                 NaN        1   \n",
       "\n",
       "   Age  Heightin  Weightlbs  WritingPreference  \n",
       "0   26        61        142         Right hand  \n",
       "1   21        64        120         Right hand  \n",
       "2   23        68        147         Right hand  \n",
       "3   22        66        175         Right hand  \n",
       "4   45        63        195         Right hand  \n",
       "\n",
       "[5 rows x 108 columns]"
      ]
     },
     "execution_count": 148,
     "metadata": {},
     "output_type": "execute_result"
    }
   ],
   "source": [
    "female_data = pd.read_csv('ANSUR_II_FEMALE_Public.csv')\n",
    "female_data.head()"
   ]
  },
  {
   "cell_type": "code",
   "execution_count": 149,
   "metadata": {},
   "outputs": [
    {
     "data": {
      "text/html": [
       "<div>\n",
       "<style scoped>\n",
       "    .dataframe tbody tr th:only-of-type {\n",
       "        vertical-align: middle;\n",
       "    }\n",
       "\n",
       "    .dataframe tbody tr th {\n",
       "        vertical-align: top;\n",
       "    }\n",
       "\n",
       "    .dataframe thead th {\n",
       "        text-align: right;\n",
       "    }\n",
       "</style>\n",
       "<table border=\"1\" class=\"dataframe\">\n",
       "  <thead>\n",
       "    <tr style=\"text-align: right;\">\n",
       "      <th></th>\n",
       "      <th>subjectid</th>\n",
       "      <th>abdominalextensiondepthsitting</th>\n",
       "      <th>acromialheight</th>\n",
       "      <th>acromionradialelength</th>\n",
       "      <th>anklecircumference</th>\n",
       "      <th>axillaheight</th>\n",
       "      <th>balloffootcircumference</th>\n",
       "      <th>balloffootlength</th>\n",
       "      <th>biacromialbreadth</th>\n",
       "      <th>bicepscircumferenceflexed</th>\n",
       "      <th>...</th>\n",
       "      <th>Branch</th>\n",
       "      <th>PrimaryMOS</th>\n",
       "      <th>SubjectsBirthLocation</th>\n",
       "      <th>SubjectNumericRace</th>\n",
       "      <th>Ethnicity</th>\n",
       "      <th>DODRace</th>\n",
       "      <th>Age</th>\n",
       "      <th>Heightin</th>\n",
       "      <th>Weightlbs</th>\n",
       "      <th>WritingPreference</th>\n",
       "    </tr>\n",
       "  </thead>\n",
       "  <tbody>\n",
       "    <tr>\n",
       "      <th>0</th>\n",
       "      <td>10027</td>\n",
       "      <td>266</td>\n",
       "      <td>1467</td>\n",
       "      <td>337</td>\n",
       "      <td>222</td>\n",
       "      <td>1347</td>\n",
       "      <td>253</td>\n",
       "      <td>202</td>\n",
       "      <td>401</td>\n",
       "      <td>369</td>\n",
       "      <td>...</td>\n",
       "      <td>Combat Arms</td>\n",
       "      <td>19D</td>\n",
       "      <td>North Dakota</td>\n",
       "      <td>1</td>\n",
       "      <td>NaN</td>\n",
       "      <td>1</td>\n",
       "      <td>41</td>\n",
       "      <td>71</td>\n",
       "      <td>180</td>\n",
       "      <td>Right hand</td>\n",
       "    </tr>\n",
       "    <tr>\n",
       "      <th>1</th>\n",
       "      <td>10032</td>\n",
       "      <td>233</td>\n",
       "      <td>1395</td>\n",
       "      <td>326</td>\n",
       "      <td>220</td>\n",
       "      <td>1293</td>\n",
       "      <td>245</td>\n",
       "      <td>193</td>\n",
       "      <td>394</td>\n",
       "      <td>338</td>\n",
       "      <td>...</td>\n",
       "      <td>Combat Support</td>\n",
       "      <td>68W</td>\n",
       "      <td>New York</td>\n",
       "      <td>1</td>\n",
       "      <td>NaN</td>\n",
       "      <td>1</td>\n",
       "      <td>35</td>\n",
       "      <td>68</td>\n",
       "      <td>160</td>\n",
       "      <td>Left hand</td>\n",
       "    </tr>\n",
       "    <tr>\n",
       "      <th>2</th>\n",
       "      <td>10033</td>\n",
       "      <td>287</td>\n",
       "      <td>1430</td>\n",
       "      <td>341</td>\n",
       "      <td>230</td>\n",
       "      <td>1327</td>\n",
       "      <td>256</td>\n",
       "      <td>196</td>\n",
       "      <td>427</td>\n",
       "      <td>408</td>\n",
       "      <td>...</td>\n",
       "      <td>Combat Support</td>\n",
       "      <td>68W</td>\n",
       "      <td>New York</td>\n",
       "      <td>2</td>\n",
       "      <td>NaN</td>\n",
       "      <td>2</td>\n",
       "      <td>42</td>\n",
       "      <td>68</td>\n",
       "      <td>205</td>\n",
       "      <td>Left hand</td>\n",
       "    </tr>\n",
       "    <tr>\n",
       "      <th>3</th>\n",
       "      <td>10092</td>\n",
       "      <td>234</td>\n",
       "      <td>1347</td>\n",
       "      <td>310</td>\n",
       "      <td>230</td>\n",
       "      <td>1239</td>\n",
       "      <td>262</td>\n",
       "      <td>199</td>\n",
       "      <td>401</td>\n",
       "      <td>359</td>\n",
       "      <td>...</td>\n",
       "      <td>Combat Service Support</td>\n",
       "      <td>88M</td>\n",
       "      <td>Wisconsin</td>\n",
       "      <td>1</td>\n",
       "      <td>NaN</td>\n",
       "      <td>1</td>\n",
       "      <td>31</td>\n",
       "      <td>66</td>\n",
       "      <td>175</td>\n",
       "      <td>Right hand</td>\n",
       "    </tr>\n",
       "    <tr>\n",
       "      <th>4</th>\n",
       "      <td>10093</td>\n",
       "      <td>250</td>\n",
       "      <td>1585</td>\n",
       "      <td>372</td>\n",
       "      <td>247</td>\n",
       "      <td>1478</td>\n",
       "      <td>267</td>\n",
       "      <td>224</td>\n",
       "      <td>435</td>\n",
       "      <td>356</td>\n",
       "      <td>...</td>\n",
       "      <td>Combat Service Support</td>\n",
       "      <td>92G</td>\n",
       "      <td>North Carolina</td>\n",
       "      <td>2</td>\n",
       "      <td>NaN</td>\n",
       "      <td>2</td>\n",
       "      <td>21</td>\n",
       "      <td>77</td>\n",
       "      <td>213</td>\n",
       "      <td>Right hand</td>\n",
       "    </tr>\n",
       "  </tbody>\n",
       "</table>\n",
       "<p>5 rows × 108 columns</p>\n",
       "</div>"
      ],
      "text/plain": [
       "   subjectid  abdominalextensiondepthsitting  acromialheight  \\\n",
       "0      10027                             266            1467   \n",
       "1      10032                             233            1395   \n",
       "2      10033                             287            1430   \n",
       "3      10092                             234            1347   \n",
       "4      10093                             250            1585   \n",
       "\n",
       "   acromionradialelength  anklecircumference  axillaheight  \\\n",
       "0                    337                 222          1347   \n",
       "1                    326                 220          1293   \n",
       "2                    341                 230          1327   \n",
       "3                    310                 230          1239   \n",
       "4                    372                 247          1478   \n",
       "\n",
       "   balloffootcircumference  balloffootlength  biacromialbreadth  \\\n",
       "0                      253               202                401   \n",
       "1                      245               193                394   \n",
       "2                      256               196                427   \n",
       "3                      262               199                401   \n",
       "4                      267               224                435   \n",
       "\n",
       "   bicepscircumferenceflexed  ...                  Branch  PrimaryMOS  \\\n",
       "0                        369  ...             Combat Arms         19D   \n",
       "1                        338  ...          Combat Support         68W   \n",
       "2                        408  ...          Combat Support         68W   \n",
       "3                        359  ...  Combat Service Support         88M   \n",
       "4                        356  ...  Combat Service Support         92G   \n",
       "\n",
       "   SubjectsBirthLocation  SubjectNumericRace  Ethnicity  DODRace  Age  \\\n",
       "0           North Dakota                   1        NaN        1   41   \n",
       "1               New York                   1        NaN        1   35   \n",
       "2               New York                   2        NaN        2   42   \n",
       "3              Wisconsin                   1        NaN        1   31   \n",
       "4         North Carolina                   2        NaN        2   21   \n",
       "\n",
       "   Heightin  Weightlbs  WritingPreference  \n",
       "0        71        180         Right hand  \n",
       "1        68        160          Left hand  \n",
       "2        68        205          Left hand  \n",
       "3        66        175         Right hand  \n",
       "4        77        213         Right hand  \n",
       "\n",
       "[5 rows x 108 columns]"
      ]
     },
     "execution_count": 149,
     "metadata": {},
     "output_type": "execute_result"
    }
   ],
   "source": [
    "male_data = pd.read_csv('ANSUR_II_MALE_Public.csv', encoding='latin-1')\n",
    "male_data.head()"
   ]
  },
  {
   "cell_type": "code",
   "execution_count": 150,
   "metadata": {},
   "outputs": [
    {
     "data": {
      "text/html": [
       "<div>\n",
       "<style scoped>\n",
       "    .dataframe tbody tr th:only-of-type {\n",
       "        vertical-align: middle;\n",
       "    }\n",
       "\n",
       "    .dataframe tbody tr th {\n",
       "        vertical-align: top;\n",
       "    }\n",
       "\n",
       "    .dataframe thead th {\n",
       "        text-align: right;\n",
       "    }\n",
       "</style>\n",
       "<table border=\"1\" class=\"dataframe\">\n",
       "  <thead>\n",
       "    <tr style=\"text-align: right;\">\n",
       "      <th></th>\n",
       "      <th>SubjectId</th>\n",
       "      <th>abdominalextensiondepthsitting</th>\n",
       "      <th>acromialheight</th>\n",
       "      <th>acromionradialelength</th>\n",
       "      <th>anklecircumference</th>\n",
       "      <th>axillaheight</th>\n",
       "      <th>balloffootcircumference</th>\n",
       "      <th>balloffootlength</th>\n",
       "      <th>biacromialbreadth</th>\n",
       "      <th>bicepscircumferenceflexed</th>\n",
       "      <th>...</th>\n",
       "      <th>PrimaryMOS</th>\n",
       "      <th>SubjectsBirthLocation</th>\n",
       "      <th>SubjectNumericRace</th>\n",
       "      <th>Ethnicity</th>\n",
       "      <th>DODRace</th>\n",
       "      <th>Age</th>\n",
       "      <th>Heightin</th>\n",
       "      <th>Weightlbs</th>\n",
       "      <th>WritingPreference</th>\n",
       "      <th>subjectid</th>\n",
       "    </tr>\n",
       "  </thead>\n",
       "  <tbody>\n",
       "    <tr>\n",
       "      <th>0</th>\n",
       "      <td>10037.0</td>\n",
       "      <td>231</td>\n",
       "      <td>1282</td>\n",
       "      <td>301</td>\n",
       "      <td>204</td>\n",
       "      <td>1180</td>\n",
       "      <td>222</td>\n",
       "      <td>177</td>\n",
       "      <td>373</td>\n",
       "      <td>315</td>\n",
       "      <td>...</td>\n",
       "      <td>92Y</td>\n",
       "      <td>Germany</td>\n",
       "      <td>2</td>\n",
       "      <td>NaN</td>\n",
       "      <td>2</td>\n",
       "      <td>26</td>\n",
       "      <td>61</td>\n",
       "      <td>142</td>\n",
       "      <td>Right hand</td>\n",
       "      <td>NaN</td>\n",
       "    </tr>\n",
       "    <tr>\n",
       "      <th>1</th>\n",
       "      <td>10038.0</td>\n",
       "      <td>194</td>\n",
       "      <td>1379</td>\n",
       "      <td>320</td>\n",
       "      <td>207</td>\n",
       "      <td>1292</td>\n",
       "      <td>225</td>\n",
       "      <td>178</td>\n",
       "      <td>372</td>\n",
       "      <td>272</td>\n",
       "      <td>...</td>\n",
       "      <td>25U</td>\n",
       "      <td>California</td>\n",
       "      <td>3</td>\n",
       "      <td>Mexican</td>\n",
       "      <td>3</td>\n",
       "      <td>21</td>\n",
       "      <td>64</td>\n",
       "      <td>120</td>\n",
       "      <td>Right hand</td>\n",
       "      <td>NaN</td>\n",
       "    </tr>\n",
       "    <tr>\n",
       "      <th>2</th>\n",
       "      <td>10042.0</td>\n",
       "      <td>183</td>\n",
       "      <td>1369</td>\n",
       "      <td>329</td>\n",
       "      <td>233</td>\n",
       "      <td>1271</td>\n",
       "      <td>237</td>\n",
       "      <td>196</td>\n",
       "      <td>397</td>\n",
       "      <td>300</td>\n",
       "      <td>...</td>\n",
       "      <td>35D</td>\n",
       "      <td>Texas</td>\n",
       "      <td>1</td>\n",
       "      <td>NaN</td>\n",
       "      <td>1</td>\n",
       "      <td>23</td>\n",
       "      <td>68</td>\n",
       "      <td>147</td>\n",
       "      <td>Right hand</td>\n",
       "      <td>NaN</td>\n",
       "    </tr>\n",
       "    <tr>\n",
       "      <th>3</th>\n",
       "      <td>10043.0</td>\n",
       "      <td>261</td>\n",
       "      <td>1356</td>\n",
       "      <td>306</td>\n",
       "      <td>214</td>\n",
       "      <td>1250</td>\n",
       "      <td>240</td>\n",
       "      <td>188</td>\n",
       "      <td>384</td>\n",
       "      <td>364</td>\n",
       "      <td>...</td>\n",
       "      <td>25U</td>\n",
       "      <td>District of Columbia</td>\n",
       "      <td>8</td>\n",
       "      <td>Caribbean Islander</td>\n",
       "      <td>2</td>\n",
       "      <td>22</td>\n",
       "      <td>66</td>\n",
       "      <td>175</td>\n",
       "      <td>Right hand</td>\n",
       "      <td>NaN</td>\n",
       "    </tr>\n",
       "    <tr>\n",
       "      <th>4</th>\n",
       "      <td>10051.0</td>\n",
       "      <td>309</td>\n",
       "      <td>1303</td>\n",
       "      <td>308</td>\n",
       "      <td>214</td>\n",
       "      <td>1210</td>\n",
       "      <td>217</td>\n",
       "      <td>182</td>\n",
       "      <td>378</td>\n",
       "      <td>320</td>\n",
       "      <td>...</td>\n",
       "      <td>42A</td>\n",
       "      <td>Texas</td>\n",
       "      <td>1</td>\n",
       "      <td>NaN</td>\n",
       "      <td>1</td>\n",
       "      <td>45</td>\n",
       "      <td>63</td>\n",
       "      <td>195</td>\n",
       "      <td>Right hand</td>\n",
       "      <td>NaN</td>\n",
       "    </tr>\n",
       "    <tr>\n",
       "      <th>...</th>\n",
       "      <td>...</td>\n",
       "      <td>...</td>\n",
       "      <td>...</td>\n",
       "      <td>...</td>\n",
       "      <td>...</td>\n",
       "      <td>...</td>\n",
       "      <td>...</td>\n",
       "      <td>...</td>\n",
       "      <td>...</td>\n",
       "      <td>...</td>\n",
       "      <td>...</td>\n",
       "      <td>...</td>\n",
       "      <td>...</td>\n",
       "      <td>...</td>\n",
       "      <td>...</td>\n",
       "      <td>...</td>\n",
       "      <td>...</td>\n",
       "      <td>...</td>\n",
       "      <td>...</td>\n",
       "      <td>...</td>\n",
       "      <td>...</td>\n",
       "    </tr>\n",
       "    <tr>\n",
       "      <th>4077</th>\n",
       "      <td>NaN</td>\n",
       "      <td>235</td>\n",
       "      <td>1353</td>\n",
       "      <td>312</td>\n",
       "      <td>216</td>\n",
       "      <td>1263</td>\n",
       "      <td>228</td>\n",
       "      <td>193</td>\n",
       "      <td>384</td>\n",
       "      <td>318</td>\n",
       "      <td>...</td>\n",
       "      <td>11B</td>\n",
       "      <td>Colorado</td>\n",
       "      <td>51</td>\n",
       "      <td>Blackfoot Cherokee Choctaw</td>\n",
       "      <td>1</td>\n",
       "      <td>22</td>\n",
       "      <td>67</td>\n",
       "      <td>160</td>\n",
       "      <td>Right hand</td>\n",
       "      <td>29442.0</td>\n",
       "    </tr>\n",
       "    <tr>\n",
       "      <th>4078</th>\n",
       "      <td>NaN</td>\n",
       "      <td>247</td>\n",
       "      <td>1473</td>\n",
       "      <td>336</td>\n",
       "      <td>234</td>\n",
       "      <td>1346</td>\n",
       "      <td>253</td>\n",
       "      <td>196</td>\n",
       "      <td>428</td>\n",
       "      <td>374</td>\n",
       "      <td>...</td>\n",
       "      <td>91B</td>\n",
       "      <td>Oklahoma</td>\n",
       "      <td>1</td>\n",
       "      <td>NaN</td>\n",
       "      <td>1</td>\n",
       "      <td>22</td>\n",
       "      <td>71</td>\n",
       "      <td>194</td>\n",
       "      <td>Right hand</td>\n",
       "      <td>29443.0</td>\n",
       "    </tr>\n",
       "    <tr>\n",
       "      <th>4079</th>\n",
       "      <td>NaN</td>\n",
       "      <td>264</td>\n",
       "      <td>1394</td>\n",
       "      <td>313</td>\n",
       "      <td>227</td>\n",
       "      <td>1280</td>\n",
       "      <td>245</td>\n",
       "      <td>193</td>\n",
       "      <td>407</td>\n",
       "      <td>367</td>\n",
       "      <td>...</td>\n",
       "      <td>13B</td>\n",
       "      <td>Oklahoma</td>\n",
       "      <td>1</td>\n",
       "      <td>NaN</td>\n",
       "      <td>1</td>\n",
       "      <td>23</td>\n",
       "      <td>67</td>\n",
       "      <td>186</td>\n",
       "      <td>Right hand</td>\n",
       "      <td>29447.0</td>\n",
       "    </tr>\n",
       "    <tr>\n",
       "      <th>4080</th>\n",
       "      <td>NaN</td>\n",
       "      <td>203</td>\n",
       "      <td>1417</td>\n",
       "      <td>327</td>\n",
       "      <td>223</td>\n",
       "      <td>1314</td>\n",
       "      <td>250</td>\n",
       "      <td>196</td>\n",
       "      <td>419</td>\n",
       "      <td>365</td>\n",
       "      <td>...</td>\n",
       "      <td>13P</td>\n",
       "      <td>Oklahoma</td>\n",
       "      <td>1</td>\n",
       "      <td>NaN</td>\n",
       "      <td>1</td>\n",
       "      <td>22</td>\n",
       "      <td>69</td>\n",
       "      <td>165</td>\n",
       "      <td>Right hand</td>\n",
       "      <td>29451.0</td>\n",
       "    </tr>\n",
       "    <tr>\n",
       "      <th>4081</th>\n",
       "      <td>NaN</td>\n",
       "      <td>327</td>\n",
       "      <td>1523</td>\n",
       "      <td>358</td>\n",
       "      <td>226</td>\n",
       "      <td>1408</td>\n",
       "      <td>269</td>\n",
       "      <td>225</td>\n",
       "      <td>442</td>\n",
       "      <td>379</td>\n",
       "      <td>...</td>\n",
       "      <td>92Y</td>\n",
       "      <td>Oklahoma</td>\n",
       "      <td>1</td>\n",
       "      <td>NaN</td>\n",
       "      <td>1</td>\n",
       "      <td>38</td>\n",
       "      <td>73</td>\n",
       "      <td>218</td>\n",
       "      <td>Right hand</td>\n",
       "      <td>29452.0</td>\n",
       "    </tr>\n",
       "  </tbody>\n",
       "</table>\n",
       "<p>6068 rows × 109 columns</p>\n",
       "</div>"
      ],
      "text/plain": [
       "      SubjectId  abdominalextensiondepthsitting  acromialheight  \\\n",
       "0       10037.0                             231            1282   \n",
       "1       10038.0                             194            1379   \n",
       "2       10042.0                             183            1369   \n",
       "3       10043.0                             261            1356   \n",
       "4       10051.0                             309            1303   \n",
       "...         ...                             ...             ...   \n",
       "4077        NaN                             235            1353   \n",
       "4078        NaN                             247            1473   \n",
       "4079        NaN                             264            1394   \n",
       "4080        NaN                             203            1417   \n",
       "4081        NaN                             327            1523   \n",
       "\n",
       "      acromionradialelength  anklecircumference  axillaheight  \\\n",
       "0                       301                 204          1180   \n",
       "1                       320                 207          1292   \n",
       "2                       329                 233          1271   \n",
       "3                       306                 214          1250   \n",
       "4                       308                 214          1210   \n",
       "...                     ...                 ...           ...   \n",
       "4077                    312                 216          1263   \n",
       "4078                    336                 234          1346   \n",
       "4079                    313                 227          1280   \n",
       "4080                    327                 223          1314   \n",
       "4081                    358                 226          1408   \n",
       "\n",
       "      balloffootcircumference  balloffootlength  biacromialbreadth  \\\n",
       "0                         222               177                373   \n",
       "1                         225               178                372   \n",
       "2                         237               196                397   \n",
       "3                         240               188                384   \n",
       "4                         217               182                378   \n",
       "...                       ...               ...                ...   \n",
       "4077                      228               193                384   \n",
       "4078                      253               196                428   \n",
       "4079                      245               193                407   \n",
       "4080                      250               196                419   \n",
       "4081                      269               225                442   \n",
       "\n",
       "      bicepscircumferenceflexed  ...  PrimaryMOS  SubjectsBirthLocation  \\\n",
       "0                           315  ...         92Y                Germany   \n",
       "1                           272  ...         25U             California   \n",
       "2                           300  ...         35D                  Texas   \n",
       "3                           364  ...         25U   District of Columbia   \n",
       "4                           320  ...         42A                  Texas   \n",
       "...                         ...  ...         ...                    ...   \n",
       "4077                        318  ...         11B               Colorado   \n",
       "4078                        374  ...         91B               Oklahoma   \n",
       "4079                        367  ...         13B               Oklahoma   \n",
       "4080                        365  ...         13P               Oklahoma   \n",
       "4081                        379  ...         92Y               Oklahoma   \n",
       "\n",
       "      SubjectNumericRace                   Ethnicity  DODRace  Age  Heightin  \\\n",
       "0                      2                         NaN        2   26        61   \n",
       "1                      3                     Mexican        3   21        64   \n",
       "2                      1                         NaN        1   23        68   \n",
       "3                      8          Caribbean Islander        2   22        66   \n",
       "4                      1                         NaN        1   45        63   \n",
       "...                  ...                         ...      ...  ...       ...   \n",
       "4077                  51  Blackfoot Cherokee Choctaw        1   22        67   \n",
       "4078                   1                         NaN        1   22        71   \n",
       "4079                   1                         NaN        1   23        67   \n",
       "4080                   1                         NaN        1   22        69   \n",
       "4081                   1                         NaN        1   38        73   \n",
       "\n",
       "      Weightlbs  WritingPreference  subjectid  \n",
       "0           142         Right hand        NaN  \n",
       "1           120         Right hand        NaN  \n",
       "2           147         Right hand        NaN  \n",
       "3           175         Right hand        NaN  \n",
       "4           195         Right hand        NaN  \n",
       "...         ...                ...        ...  \n",
       "4077        160         Right hand    29442.0  \n",
       "4078        194         Right hand    29443.0  \n",
       "4079        186         Right hand    29447.0  \n",
       "4080        165         Right hand    29451.0  \n",
       "4081        218         Right hand    29452.0  \n",
       "\n",
       "[6068 rows x 109 columns]"
      ]
     },
     "execution_count": 150,
     "metadata": {},
     "output_type": "execute_result"
    }
   ],
   "source": [
    "data = pd.concat([female_data, male_data])\n",
    "data "
   ]
  },
  {
   "cell_type": "markdown",
   "metadata": {},
   "source": [
    "Preprocess"
   ]
  },
  {
   "cell_type": "code",
   "execution_count": 151,
   "metadata": {},
   "outputs": [
    {
     "data": {
      "text/plain": [
       "0       65.7\n",
       "1       53.4\n",
       "2       66.3\n",
       "3       78.2\n",
       "4       88.6\n",
       "        ... \n",
       "4077    67.5\n",
       "4078    89.6\n",
       "4079    83.2\n",
       "4080    73.1\n",
       "4081    98.5\n",
       "Name: weightkg, Length: 6068, dtype: float64"
      ]
     },
     "execution_count": 151,
     "metadata": {},
     "output_type": "execute_result"
    }
   ],
   "source": [
    "# convert to kg\n",
    "data['weightkg'] /= 10\n",
    "data['weightkg']"
   ]
  },
  {
   "cell_type": "code",
   "execution_count": 152,
   "metadata": {},
   "outputs": [
    {
     "data": {
      "text/plain": [
       "0       156.0\n",
       "1       166.5\n",
       "2       171.1\n",
       "3       166.0\n",
       "4       157.2\n",
       "        ...  \n",
       "4077    168.8\n",
       "4078    176.5\n",
       "4079    169.0\n",
       "4080    171.8\n",
       "4081    182.8\n",
       "Name: stature, Length: 6068, dtype: float64"
      ]
     },
     "execution_count": 152,
     "metadata": {},
     "output_type": "execute_result"
    }
   ],
   "source": [
    "# convert to cm\n",
    "data['stature'] /= 10\n",
    "data['stature']"
   ]
  },
  {
   "cell_type": "code",
   "execution_count": 153,
   "metadata": {},
   "outputs": [
    {
     "data": {
      "text/plain": [
       "0       0\n",
       "1       0\n",
       "2       0\n",
       "3       0\n",
       "4       0\n",
       "       ..\n",
       "4077    1\n",
       "4078    1\n",
       "4079    1\n",
       "4080    1\n",
       "4081    1\n",
       "Name: Gender, Length: 6068, dtype: int64"
      ]
     },
     "execution_count": 153,
     "metadata": {},
     "output_type": "execute_result"
    }
   ],
   "source": [
    "# convert to binary\n",
    "data['Gender'] = data['Gender'].replace(['Female', 'Male'], [0, 1])\n",
    "data['Gender']"
   ]
  },
  {
   "cell_type": "code",
   "execution_count": 154,
   "metadata": {},
   "outputs": [
    {
     "data": {
      "image/png": "[encoded data removed]",
      "text/plain": [
       "<Figure size 432x288 with 1 Axes>"
      ]
     },
     "metadata": {
      "needs_background": "light"
     },
     "output_type": "display_data"
    }
   ],
   "source": [
    "cmap = ['red', 'blue']\n",
    "plt.scatter(data['stature'], data['weightkg'], c=data['Gender'], cmap=ListedColormap(cmap), alpha=0.1)\n",
    "plt.show()"
   ]
  },
  {
   "cell_type": "code",
   "execution_count": 155,
   "metadata": {},
   "outputs": [
    {
     "data": {
      "text/html": [
       "<div>\n",
       "<style scoped>\n",
       "    .dataframe tbody tr th:only-of-type {\n",
       "        vertical-align: middle;\n",
       "    }\n",
       "\n",
       "    .dataframe tbody tr th {\n",
       "        vertical-align: top;\n",
       "    }\n",
       "\n",
       "    .dataframe thead th {\n",
       "        text-align: right;\n",
       "    }\n",
       "</style>\n",
       "<table border=\"1\" class=\"dataframe\">\n",
       "  <thead>\n",
       "    <tr style=\"text-align: right;\">\n",
       "      <th></th>\n",
       "      <th>stature</th>\n",
       "      <th>Gender</th>\n",
       "    </tr>\n",
       "  </thead>\n",
       "  <tbody>\n",
       "    <tr>\n",
       "      <th>0</th>\n",
       "      <td>156.0</td>\n",
       "      <td>0</td>\n",
       "    </tr>\n",
       "    <tr>\n",
       "      <th>1</th>\n",
       "      <td>166.5</td>\n",
       "      <td>0</td>\n",
       "    </tr>\n",
       "    <tr>\n",
       "      <th>2</th>\n",
       "      <td>171.1</td>\n",
       "      <td>0</td>\n",
       "    </tr>\n",
       "    <tr>\n",
       "      <th>3</th>\n",
       "      <td>166.0</td>\n",
       "      <td>0</td>\n",
       "    </tr>\n",
       "    <tr>\n",
       "      <th>4</th>\n",
       "      <td>157.2</td>\n",
       "      <td>0</td>\n",
       "    </tr>\n",
       "    <tr>\n",
       "      <th>...</th>\n",
       "      <td>...</td>\n",
       "      <td>...</td>\n",
       "    </tr>\n",
       "    <tr>\n",
       "      <th>4077</th>\n",
       "      <td>168.8</td>\n",
       "      <td>1</td>\n",
       "    </tr>\n",
       "    <tr>\n",
       "      <th>4078</th>\n",
       "      <td>176.5</td>\n",
       "      <td>1</td>\n",
       "    </tr>\n",
       "    <tr>\n",
       "      <th>4079</th>\n",
       "      <td>169.0</td>\n",
       "      <td>1</td>\n",
       "    </tr>\n",
       "    <tr>\n",
       "      <th>4080</th>\n",
       "      <td>171.8</td>\n",
       "      <td>1</td>\n",
       "    </tr>\n",
       "    <tr>\n",
       "      <th>4081</th>\n",
       "      <td>182.8</td>\n",
       "      <td>1</td>\n",
       "    </tr>\n",
       "  </tbody>\n",
       "</table>\n",
       "<p>6068 rows × 2 columns</p>\n",
       "</div>"
      ],
      "text/plain": [
       "      stature  Gender\n",
       "0       156.0       0\n",
       "1       166.5       0\n",
       "2       171.1       0\n",
       "3       166.0       0\n",
       "4       157.2       0\n",
       "...       ...     ...\n",
       "4077    168.8       1\n",
       "4078    176.5       1\n",
       "4079    169.0       1\n",
       "4080    171.8       1\n",
       "4081    182.8       1\n",
       "\n",
       "[6068 rows x 2 columns]"
      ]
     },
     "execution_count": 155,
     "metadata": {},
     "output_type": "execute_result"
    }
   ],
   "source": [
    "data[['stature', 'Gender']]"
   ]
  },
  {
   "cell_type": "code",
   "execution_count": 156,
   "metadata": {},
   "outputs": [
    {
     "data": {
      "image/png": "[encoded data removed]",
      "text/plain": [
       "<Figure size 432x288 with 1 Axes>"
      ]
     },
     "metadata": {
      "needs_background": "light"
     },
     "output_type": "display_data"
    }
   ],
   "source": [
    "height_male = data.query(\"Gender == 1\")[\"stature\"]\n",
    "height_female = data.query(\"Gender == 0\")[\"stature\"]\n",
    "\n",
    "plt.hist(height_male, color='b', alpha=0.4)\n",
    "plt.hist(height_female, color='r', alpha=0.4)\n",
    "\n",
    "plt.title(\"Male and Female Height\")\n",
    "plt.legend([\"Male\", \"Female\"])\n",
    "plt.show()"
   ]
  },
  {
   "cell_type": "code",
   "execution_count": 157,
   "metadata": {},
   "outputs": [
    {
     "data": {
      "text/plain": [
       "(175.62146006859385, 162.84733131923463)"
      ]
     },
     "execution_count": 157,
     "metadata": {},
     "output_type": "execute_result"
    }
   ],
   "source": [
    "height_male.mean(), height_female.mean()"
   ]
  },
  {
   "cell_type": "code",
   "execution_count": 170,
   "metadata": {},
   "outputs": [
    {
     "data": {
      "text/html": [
       "<div>\n",
       "<style scoped>\n",
       "    .dataframe tbody tr th:only-of-type {\n",
       "        vertical-align: middle;\n",
       "    }\n",
       "\n",
       "    .dataframe tbody tr th {\n",
       "        vertical-align: top;\n",
       "    }\n",
       "\n",
       "    .dataframe thead th {\n",
       "        text-align: right;\n",
       "    }\n",
       "</style>\n",
       "<table border=\"1\" class=\"dataframe\">\n",
       "  <thead>\n",
       "    <tr style=\"text-align: right;\">\n",
       "      <th></th>\n",
       "      <th>weightkg</th>\n",
       "      <th>stature</th>\n",
       "    </tr>\n",
       "  </thead>\n",
       "  <tbody>\n",
       "    <tr>\n",
       "      <th>0</th>\n",
       "      <td>65.7</td>\n",
       "      <td>156.0</td>\n",
       "    </tr>\n",
       "    <tr>\n",
       "      <th>1</th>\n",
       "      <td>53.4</td>\n",
       "      <td>166.5</td>\n",
       "    </tr>\n",
       "    <tr>\n",
       "      <th>2</th>\n",
       "      <td>66.3</td>\n",
       "      <td>171.1</td>\n",
       "    </tr>\n",
       "    <tr>\n",
       "      <th>3</th>\n",
       "      <td>78.2</td>\n",
       "      <td>166.0</td>\n",
       "    </tr>\n",
       "    <tr>\n",
       "      <th>4</th>\n",
       "      <td>88.6</td>\n",
       "      <td>157.2</td>\n",
       "    </tr>\n",
       "    <tr>\n",
       "      <th>...</th>\n",
       "      <td>...</td>\n",
       "      <td>...</td>\n",
       "    </tr>\n",
       "    <tr>\n",
       "      <th>4077</th>\n",
       "      <td>67.5</td>\n",
       "      <td>168.8</td>\n",
       "    </tr>\n",
       "    <tr>\n",
       "      <th>4078</th>\n",
       "      <td>89.6</td>\n",
       "      <td>176.5</td>\n",
       "    </tr>\n",
       "    <tr>\n",
       "      <th>4079</th>\n",
       "      <td>83.2</td>\n",
       "      <td>169.0</td>\n",
       "    </tr>\n",
       "    <tr>\n",
       "      <th>4080</th>\n",
       "      <td>73.1</td>\n",
       "      <td>171.8</td>\n",
       "    </tr>\n",
       "    <tr>\n",
       "      <th>4081</th>\n",
       "      <td>98.5</td>\n",
       "      <td>182.8</td>\n",
       "    </tr>\n",
       "  </tbody>\n",
       "</table>\n",
       "<p>6068 rows × 2 columns</p>\n",
       "</div>"
      ],
      "text/plain": [
       "      weightkg  stature\n",
       "0         65.7    156.0\n",
       "1         53.4    166.5\n",
       "2         66.3    171.1\n",
       "3         78.2    166.0\n",
       "4         88.6    157.2\n",
       "...        ...      ...\n",
       "4077      67.5    168.8\n",
       "4078      89.6    176.5\n",
       "4079      83.2    169.0\n",
       "4080      73.1    171.8\n",
       "4081      98.5    182.8\n",
       "\n",
       "[6068 rows x 2 columns]"
      ]
     },
     "execution_count": 170,
     "metadata": {},
     "output_type": "execute_result"
    }
   ],
   "source": [
    "X = data[['weightkg', 'stature']]\n",
    "X"
   ]
  },
  {
   "cell_type": "code",
   "execution_count": 171,
   "metadata": {},
   "outputs": [
    {
     "data": {
      "text/plain": [
       "0       0\n",
       "1       0\n",
       "2       0\n",
       "3       0\n",
       "4       0\n",
       "       ..\n",
       "4077    1\n",
       "4078    1\n",
       "4079    1\n",
       "4080    1\n",
       "4081    1\n",
       "Name: Gender, Length: 6068, dtype: int64"
      ]
     },
     "execution_count": 171,
     "metadata": {},
     "output_type": "execute_result"
    }
   ],
   "source": [
    "Y = data['Gender']\n",
    "Y"
   ]
  },
  {
   "cell_type": "code",
   "execution_count": 172,
   "metadata": {},
   "outputs": [],
   "source": [
    "from sklearn.model_selection import train_test_split"
   ]
  },
  {
   "cell_type": "code",
   "execution_count": 173,
   "metadata": {},
   "outputs": [
    {
     "data": {
      "text/plain": [
       "((4854, 2), (1214, 2))"
      ]
     },
     "execution_count": 173,
     "metadata": {},
     "output_type": "execute_result"
    }
   ],
   "source": [
    "X_train, X_test, Y_train, Y_test = train_test_split(X, Y, test_size=0.2, random_state=42)\n",
    "X_train.shape, X_test.shape"
   ]
  },
  {
   "cell_type": "code",
   "execution_count": 174,
   "metadata": {},
   "outputs": [],
   "source": [
    "from knn import KNN"
   ]
  },
  {
   "cell_type": "code",
   "execution_count": 178,
   "metadata": {},
   "outputs": [],
   "source": [
    "X_train, X_test, Y_train, Y_test = np.array(X_train), np.array(X_test), np.array(Y_train), np.array(Y_test)"
   ]
  },
  {
   "cell_type": "code",
   "execution_count": 176,
   "metadata": {},
   "outputs": [],
   "source": [
    "knn_3 = KNN(k=3)\n",
    "knn_3.fit(X_train, Y_train)\n",
    "\n",
    "knn_5 = KNN(k=5)\n",
    "knn_5.fit(X_train, Y_train)\n",
    "\n",
    "knn_7 = KNN(k=7)\n",
    "knn_7.fit(X_train, Y_train)\n",
    "\n",
    "knn_9 = KNN(k=9)\n",
    "knn_9.fit(X_train, Y_train)"
   ]
  },
  {
   "cell_type": "code",
   "execution_count": 177,
   "metadata": {},
   "outputs": [
    {
     "data": {
      "text/plain": [
       "([1, 0], [1, 0], [1, 0], [1, 0])"
      ]
     },
     "execution_count": 177,
     "metadata": {},
     "output_type": "execute_result"
    }
   ],
   "source": [
    "ali_info = np.array([81, 181])\n",
    "atefeh_info = np.array([65, 165])\n",
    "infos = [ali_info, atefeh_info]\n",
    "\n",
    "outputs_3 = knn_3.predict(infos)\n",
    "outputs_5 = knn_5.predict(infos)\n",
    "outputs_7 = knn_7.predict(infos)\n",
    "outputs_9 = knn_9.predict(infos)\n",
    "\n",
    "outputs_3, outputs_5, outputs_7, outputs_9"
   ]
  },
  {
   "cell_type": "code",
   "execution_count": null,
   "metadata": {},
   "outputs": [],
   "source": [
    "knn_3.show_person(outputs_3)"
   ]
  },
  {
   "cell_type": "code",
   "execution_count": 180,
   "metadata": {},
   "outputs": [
    {
     "data": {
      "text/plain": [
       "(0.8253706754530478,\n",
       " 0.8352553542009885,\n",
       " 0.8327841845140033,\n",
       " 0.8377265238879736)"
      ]
     },
     "execution_count": 180,
     "metadata": {},
     "output_type": "execute_result"
    }
   ],
   "source": [
    "acc_3 = knn_3.evaluate(X_test, Y_test)\n",
    "acc_5 = knn_5.evaluate(X_test, Y_test)\n",
    "acc_7 = knn_7.evaluate(X_test, Y_test)\n",
    "acc_9 = knn_9.evaluate(X_test, Y_test)\n",
    "\n",
    "acc_3, acc_5, acc_7, acc_9"
   ]
  },
  {
   "cell_type": "code",
   "execution_count": 181,
   "metadata": {},
   "outputs": [],
   "source": [
    "Y_pred_3 = knn_3.predict(X_test)\n",
    "Y_pred_5 = knn_5.predict(X_test)\n",
    "Y_pred_7 = knn_7.predict(X_test)\n",
    "Y_pred_9 = knn_9.predict(X_test)"
   ]
  },
  {
   "cell_type": "code",
   "execution_count": 189,
   "metadata": {},
   "outputs": [],
   "source": [
    "# Confusion Matrix\n",
    "def create_confusion_matrix(Y_test, Y_pred):\n",
    "    confusion_matrix = np.zeros((2, 2))\n",
    "\n",
    "    for i in range(Y_test.shape[0]):\n",
    "        if Y_test[i] == 0 and Y_pred[i] == 0:\n",
    "            confusion_matrix[0][0] += 1\n",
    "        elif Y_test[i] == 0 and Y_pred[i] == 1:\n",
    "            confusion_matrix[0][1] += 1\n",
    "            \n",
    "        elif Y_test[i] == 1 and Y_pred[i] == 0:\n",
    "            confusion_matrix[1][0] += 1\n",
    "        elif Y_test[i] == 1 and Y_pred[i] == 1:\n",
    "            confusion_matrix[1][1] += 1\n",
    "            \n",
    "    return confusion_matrix"
   ]
  },
  {
   "cell_type": "code",
   "execution_count": 190,
   "metadata": {},
   "outputs": [],
   "source": [
    "confusion_matrix_3 = create_confusion_matrix(Y_test, Y_pred_3)\n",
    "confusion_matrix_5 = create_confusion_matrix(Y_test, Y_pred_5)\n",
    "confusion_matrix_7 = create_confusion_matrix(Y_test, Y_pred_7)\n",
    "confusion_matrix_9 = create_confusion_matrix(Y_test, Y_pred_9)"
   ]
  },
  {
   "cell_type": "code",
   "execution_count": 192,
   "metadata": {},
   "outputs": [
    {
     "data": {
      "image/png": "[encoded data removed]",
      "text/plain": [
       "<Figure size 432x288 with 2 Axes>"
      ]
     },
     "metadata": {
      "needs_background": "light"
     },
     "output_type": "display_data"
    }
   ],
   "source": [
    "plt.imshow(confusion_matrix_9)\n",
    "plt.colorbar()\n",
    "plt.show()"
   ]
  },
  {
   "cell_type": "code",
   "execution_count": 194,
   "metadata": {},
   "outputs": [
    {
     "data": {
      "text/plain": [
       "Text(0.5, 1.0, 'K: 9')"
      ]
     },
     "execution_count": 194,
     "metadata": {},
     "output_type": "execute_result"
    },
    {
     "data": {
      "image/png": "[encoded data removed]",
      "text/plain": [
       "<Figure size 432x288 with 4 Axes>"
      ]
     },
     "metadata": {
      "needs_background": "light"
     },
     "output_type": "display_data"
    }
   ],
   "source": [
    "fig, axs = plt.subplots(2, 2)\n",
    "fig.suptitle('Confusion Matrix')\n",
    "\n",
    "axs[0, 0].imshow(confusion_matrix_3)\n",
    "axs[0, 0].set_title('K: 3')\n",
    "\n",
    "axs[0, 1].imshow(confusion_matrix_5)\n",
    "axs[0, 1].set_title('K: 5')\n",
    "\n",
    "axs[1, 0].imshow(confusion_matrix_7)\n",
    "axs[1, 0].set_title('K: 7')\n",
    "\n",
    "axs[1, 1].imshow(confusion_matrix_9)\n",
    "axs[1, 1].set_title('K: 9')"
   ]
  },
  {
   "cell_type": "code",
   "execution_count": 195,
   "metadata": {},
   "outputs": [],
   "source": [
    "from sklearn.neighbors import KNeighborsClassifier"
   ]
  },
  {
   "cell_type": "code",
   "execution_count": 196,
   "metadata": {},
   "outputs": [
    {
     "data": {
      "text/plain": [
       "KNeighborsClassifier(n_neighbors=9)"
      ]
     },
     "execution_count": 196,
     "metadata": {},
     "output_type": "execute_result"
    }
   ],
   "source": [
    "knn_3 = KNeighborsClassifier(n_neighbors=3)\n",
    "knn_3.fit(X_train, Y_train)\n",
    "\n",
    "knn_5 = KNeighborsClassifier(n_neighbors=5)\n",
    "knn_5.fit(X_train, Y_train)\n",
    "\n",
    "knn_7 = KNeighborsClassifier(n_neighbors=7)\n",
    "knn_7.fit(X_train, Y_train)\n",
    "\n",
    "knn_9 = KNeighborsClassifier(n_neighbors=9)\n",
    "knn_9.fit(X_train, Y_train)"
   ]
  },
  {
   "cell_type": "code",
   "execution_count": 197,
   "metadata": {},
   "outputs": [
    {
     "data": {
      "text/plain": [
       "(array([1, 0], dtype=int64),\n",
       " array([1, 0], dtype=int64),\n",
       " array([1, 0], dtype=int64),\n",
       " array([1, 0], dtype=int64))"
      ]
     },
     "execution_count": 197,
     "metadata": {},
     "output_type": "execute_result"
    }
   ],
   "source": [
    "outputs_3 = knn_3.predict(infos)\n",
    "outputs_5 = knn_5.predict(infos)\n",
    "outputs_7 = knn_7.predict(infos)\n",
    "outputs_9 = knn_9.predict(infos)\n",
    "\n",
    "outputs_3, outputs_5, outputs_7, outputs_9"
   ]
  },
  {
   "cell_type": "code",
   "execution_count": 199,
   "metadata": {},
   "outputs": [
    {
     "data": {
      "text/plain": [
       "(0.8253706754530478,\n",
       " 0.8360790774299836,\n",
       " 0.8319604612850082,\n",
       " 0.8377265238879736)"
      ]
     },
     "execution_count": 199,
     "metadata": {},
     "output_type": "execute_result"
    }
   ],
   "source": [
    "acc_3 = knn_3.score(X_test, Y_test)\n",
    "acc_5 = knn_5.score(X_test, Y_test)\n",
    "acc_7 = knn_7.score(X_test, Y_test)\n",
    "acc_9 = knn_9.score(X_test, Y_test)\n",
    "\n",
    "acc_3, acc_5, acc_7, acc_9"
   ]
  },
  {
   "cell_type": "code",
   "execution_count": 200,
   "metadata": {},
   "outputs": [],
   "source": [
    "from sklearn import metrics"
   ]
  },
  {
   "cell_type": "code",
   "execution_count": 202,
   "metadata": {},
   "outputs": [],
   "source": [
    "Y_pred_3 = knn_3.predict(X_test)\n",
    "Y_pred_5 = knn_5.predict(X_test)\n",
    "Y_pred_7 = knn_7.predict(X_test)\n",
    "Y_pred_9 = knn_9.predict(X_test)"
   ]
  },
  {
   "cell_type": "code",
   "execution_count": 203,
   "metadata": {},
   "outputs": [],
   "source": [
    "confusion_matrix_3 = metrics.confusion_matrix(Y_test, Y_pred_3)\n",
    "confusion_matrix_5 = metrics.confusion_matrix(Y_test, Y_pred_5)\n",
    "confusion_matrix_7 = metrics.confusion_matrix(Y_test, Y_pred_7)\n",
    "confusion_matrix_9 = metrics.confusion_matrix(Y_test, Y_pred_9)"
   ]
  },
  {
   "cell_type": "code",
   "execution_count": 204,
   "metadata": {},
   "outputs": [],
   "source": [
    "cm3_display = metrics.ConfusionMatrixDisplay(confusion_matrix_3)\n",
    "cm5_display = metrics.ConfusionMatrixDisplay(confusion_matrix_5)\n",
    "cm7_display = metrics.ConfusionMatrixDisplay(confusion_matrix_7)\n",
    "cm9_display = metrics.ConfusionMatrixDisplay(confusion_matrix_9)"
   ]
  },
  {
   "cell_type": "code",
   "execution_count": 211,
   "metadata": {},
   "outputs": [
    {
     "data": {
      "image/png": "[encoded data removed]",
      "text/plain": [
       "<Figure size 432x288 with 2 Axes>"
      ]
     },
     "metadata": {
      "needs_background": "light"
     },
     "output_type": "display_data"
    }
   ],
   "source": [
    "cm3_display.plot()\n",
    "plt.show()"
   ]
  },
  {
   "cell_type": "code",
   "execution_count": 212,
   "metadata": {},
   "outputs": [
    {
     "data": {
      "image/png": "[encoded data removed]",
      "text/plain": [
       "<Figure size 432x288 with 2 Axes>"
      ]
     },
     "metadata": {
      "needs_background": "light"
     },
     "output_type": "display_data"
    }
   ],
   "source": [
    "cm5_display.plot()\n",
    "plt.show()"
   ]
  },
  {
   "cell_type": "code",
   "execution_count": 213,
   "metadata": {},
   "outputs": [
    {
     "data": {
      "image/png": "[encoded data removed]",
      "text/plain": [
       "<Figure size 432x288 with 2 Axes>"
      ]
     },
     "metadata": {
      "needs_background": "light"
     },
     "output_type": "display_data"
    }
   ],
   "source": [
    "cm7_display.plot()\n",
    "plt.show()"
   ]
  },
  {
   "cell_type": "code",
   "execution_count": 214,
   "metadata": {},
   "outputs": [
    {
     "data": {
      "image/png": "[encoded data removed]",
      "text/plain": [
       "<Figure size 432x288 with 2 Axes>"
      ]
     },
     "metadata": {
      "needs_background": "light"
     },
     "output_type": "display_data"
    }
   ],
   "source": [
    "cm9_display.plot()\n",
    "plt.show()"
   ]
  },
  {
   "cell_type": "code",
   "execution_count": null,
   "metadata": {},
   "outputs": [],
   "source": []
  }
 ],
 "metadata": {
  "kernelspec": {
   "display_name": "Python 3",
   "language": "python",
   "name": "python3"
  },
  "language_info": {
   "codemirror_mode": {
    "name": "ipython",
    "version": 3
   },
   "file_extension": ".py",
   "mimetype": "text/x-python",
   "name": "python",
   "nbconvert_exporter": "python",
   "pygments_lexer": "ipython3",
   "version": "3.9.10"
  },
  "orig_nbformat": 4
 },
 "nbformat": 4,
 "nbformat_minor": 2
}
