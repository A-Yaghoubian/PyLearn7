{
 "cells": [
  {
   "cell_type": "code",
   "execution_count": 1,
   "metadata": {},
   "outputs": [],
   "source": [
    "import matplotlib.pyplot as plt\n",
    "from sklearn import datasets, model_selection, neighbors, metrics"
   ]
  },
  {
   "cell_type": "code",
   "execution_count": 2,
   "metadata": {},
   "outputs": [],
   "source": [
    "iris_data = datasets.load_breast_cancer()\n",
    "X = iris_data.data \n",
    "Y = iris_data.target "
   ]
  },
  {
   "cell_type": "code",
   "execution_count": 3,
   "metadata": {},
   "outputs": [],
   "source": [
    "X_train, X_test, Y_train, Y_test = model_selection.train_test_split(X, Y, test_size=0.25, random_state=25)"
   ]
  },
  {
   "cell_type": "code",
   "execution_count": 4,
   "metadata": {},
   "outputs": [],
   "source": [
    "K = [3, 5, 7, 9, 11]\n",
    "E = []\n",
    "\n",
    "def knn_test(k, X_train, X_test, Y_train, Y_test, E):\n",
    "    m = neighbors.KNeighborsClassifier(n_neighbors=k)\n",
    "    m.fit(X_train, Y_train)\n",
    "    y_pred = m.predict(X_test)\n",
    "    e = (y_pred == Y_test).sum() / len(Y_test)\n",
    "    print(e)\n",
    "    E.append(e)\n",
    "    return E, y_pred"
   ]
  },
  {
   "cell_type": "code",
   "execution_count": 5,
   "metadata": {},
   "outputs": [
    {
     "name": "stdout",
     "output_type": "stream",
     "text": [
      "0.9020979020979021\n",
      "0.916083916083916\n",
      "0.916083916083916\n",
      "0.9090909090909091\n",
      "0.9090909090909091\n"
     ]
    }
   ],
   "source": [
    "E, y_pred = knn_test(3, X_train, X_test, Y_train, Y_test, E)\n",
    "E, y_pred = knn_test(5, X_train, X_test, Y_train, Y_test, E)\n",
    "E, y_pred = knn_test(7, X_train, X_test, Y_train, Y_test, E)\n",
    "E, y_pred = knn_test(9, X_train, X_test, Y_train, Y_test, E)\n",
    "E, y_pred = knn_test(11, X_train, X_test, Y_train, Y_test, E)"
   ]
  },
  {
   "cell_type": "code",
   "execution_count": 6,
   "metadata": {},
   "outputs": [
    {
     "data": {
      "image/png": "[encoded data removed]",
      "text/plain": [
       "<Figure size 432x288 with 1 Axes>"
      ]
     },
     "metadata": {
      "needs_background": "light"
     },
     "output_type": "display_data"
    }
   ],
   "source": [
    "plt.bar(K, E)\n",
    "plt.show()"
   ]
  },
  {
   "cell_type": "code",
   "execution_count": 7,
   "metadata": {},
   "outputs": [
    {
     "data": {
      "image/png": "[encoded data removed]",
      "text/plain": [
       "<Figure size 432x288 with 2 Axes>"
      ]
     },
     "metadata": {
      "needs_background": "light"
     },
     "output_type": "display_data"
    }
   ],
   "source": [
    "our_confusion_matrix = metrics.confusion_matrix(Y_test, y_pred)\n",
    "plt.imshow(our_confusion_matrix)\n",
    "plt.colorbar()\n",
    "plt.show()"
   ]
  },
  {
   "cell_type": "code",
   "execution_count": null,
   "metadata": {},
   "outputs": [],
   "source": []
  }
 ],
 "metadata": {
  "kernelspec": {
   "display_name": "Python 3",
   "language": "python",
   "name": "python3"
  },
  "language_info": {
   "codemirror_mode": {
    "name": "ipython",
    "version": 3
   },
   "file_extension": ".py",
   "mimetype": "text/x-python",
   "name": "python",
   "nbconvert_exporter": "python",
   "pygments_lexer": "ipython3",
   "version": "3.9.10"
  },
  "orig_nbformat": 4
 },
 "nbformat": 4,
 "nbformat_minor": 2
}
